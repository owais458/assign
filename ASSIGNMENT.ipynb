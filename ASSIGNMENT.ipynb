{
 "cells": [
  {
   "cell_type": "code",
   "execution_count": 3,
   "metadata": {},
   "outputs": [
    {
     "name": "stdout",
     "output_type": "stream",
     "text": [
      "bio data\n",
      "my name is: Owais Shah\n",
      "date of birth: 20 feb 1999\n",
      "age is: 21\n",
      "qualification: Intermediate\n",
      "university: Sir Syed\n"
     ]
    }
   ],
   "source": [
    "print(\"bio data\")\n",
    "a='Owais Shah'\n",
    "dob='20 feb 1999'\n",
    "age= 21\n",
    "qual='Intermediate'\n",
    "uni='Sir Syed'\n",
    "print(\"my name is:\",a)\n",
    "print(\"date of birth:\",dob)\n",
    "print(\"age is:\",age)\n",
    "print(\"qualification:\",qual)\n",
    "print(\"university:\",uni)\n"
   ]
  },
  {
   "cell_type": "code",
   "execution_count": null,
   "metadata": {},
   "outputs": [],
   "source": []
  }
 ],
 "metadata": {
  "kernelspec": {
   "display_name": "Python 3",
   "language": "python",
   "name": "python3"
  },
  "language_info": {
   "codemirror_mode": {
    "name": "ipython",
    "version": 3
   },
   "file_extension": ".py",
   "mimetype": "text/x-python",
   "name": "python",
   "nbconvert_exporter": "python",
   "pygments_lexer": "ipython3",
   "version": "3.7.4"
  }
 },
 "nbformat": 4,
 "nbformat_minor": 2
}
